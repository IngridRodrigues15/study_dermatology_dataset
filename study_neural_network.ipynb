{
  "nbformat": 4,
  "nbformat_minor": 0,
  "metadata": {
    "colab": {
      "name": "machinelearningfoundation_aula3.ipynb",
      "provenance": [],
      "collapsed_sections": [],
      "authorship_tag": "ABX9TyPSuz0AhOB+mzFLZieADTkT",
      "include_colab_link": true
    },
    "kernelspec": {
      "name": "python3",
      "display_name": "Python 3"
    },
    "language_info": {
      "name": "python"
    }
  },
  "cells": [
    {
      "cell_type": "markdown",
      "metadata": {
        "id": "view-in-github",
        "colab_type": "text"
      },
      "source": [
        "<a href=\"https://colab.research.google.com/github/IngridRodrigues15/study_dermatology_dataset/blob/main/study_neural_network.ipynb\" target=\"_parent\"><img src=\"https://colab.research.google.com/assets/colab-badge.svg\" alt=\"Open In Colab\"/></a>"
      ]
    },
    {
      "cell_type": "code",
      "metadata": {
        "id": "IB0hS1yp8nQT"
      },
      "source": [
        "# data set \n",
        "# https://archive.ics.uci.edu/ml/machine-learning-databases/dermatology/dermatology.data"
      ],
      "execution_count": null,
      "outputs": []
    },
    {
      "cell_type": "markdown",
      "metadata": {
        "id": "Shji4MYb96Ge"
      },
      "source": [
        "\n",
        "-- Complete attribute documentation:\n",
        "      Clinical Attributes: (take values 0, 1, 2, 3, unless otherwise indicated)\n",
        "      \n",
        "      1: erythema\n",
        "      2: scaling\n",
        "      3: definite borders\n",
        "      4: itching\n",
        "      5: koebner phenomenon\n",
        "      6: polygonal papules\n",
        "      7: follicular papules\n",
        "      8: oral mucosal involvement\n",
        "      9: knee and elbow involvement\n",
        "     10: scalp involvement\n",
        "     11: family history, (0 or 1)\n",
        "     34: Age (linear)\n",
        "\n",
        "     Histopathological Attributes: (take values 0, 1, 2, 3)\n",
        "     12: melanin incontinence\n",
        "     13: eosinophils in the infiltrate\n",
        "     14: PNL infiltrate\n",
        "     15: fibrosis of the papillary dermis\n",
        "     16: exocytosis\n",
        "     17: acanthosis\n",
        "     18: hyperkeratosis\n",
        "     19: parakeratosis\n",
        "     20: clubbing of the rete ridges\n",
        "     21: elongation of the rete ridges\n",
        "     22: thinning of the suprapapillary epidermis\n",
        "     23: spongiform pustule\n",
        "     24: munro microabcess\n",
        "     25: focal hypergranulosis\n",
        "     26: disappearance of the granular layer\n",
        "     27: vacuolisation and damage of basal layer\n",
        "     28: spongiosis\n",
        "     29: saw-tooth appearance of retes\n",
        "     30: follicular horn plug\n",
        "     31: perifollicular parakeratosis\n",
        "     32: inflammatory monoluclear inflitrate\n",
        "     33: band-like infiltrate\n",
        "      \n",
        "8. Missing Attribute Values: 8 (in Age attribute). Distinguished with '?'.\n",
        "\n",
        "9. Class Distribution:\n",
        "       Database:  Dermatology\n",
        "       \n",
        "       Class code:   Class:                  Number of instances:\n",
        "       1             psoriasis\t\t\t    112\n",
        "       2             seboreic dermatitis             61\n",
        "       3             lichen planus                   72\n",
        "       4             pityriasis rosea                49\n",
        "       5             cronic dermatitis               52    \n",
        "       6             pityriasis rubra pilaris        20\n"
      ]
    },
    {
      "cell_type": "code",
      "metadata": {
        "id": "FkiH5lqk8z29"
      },
      "source": [
        "import pandas as pd\n",
        "import matplotlib.pyplot as plt\n",
        "%matplotlib inline"
      ],
      "execution_count": null,
      "outputs": []
    },
    {
      "cell_type": "code",
      "metadata": {
        "colab": {
          "base_uri": "https://localhost:8080/",
          "height": 204
        },
        "id": "OUYgbFia9Gn5",
        "outputId": "2ee10e27-4a12-49d6-c92f-1cff2a0fb6b3"
      },
      "source": [
        "dataset = pd.read_csv('dermatology.data', header=None)\n",
        "dataset.sample(5)"
      ],
      "execution_count": null,
      "outputs": [
        {
          "output_type": "execute_result",
          "data": {
            "text/html": [
              "<div>\n",
              "<style scoped>\n",
              "    .dataframe tbody tr th:only-of-type {\n",
              "        vertical-align: middle;\n",
              "    }\n",
              "\n",
              "    .dataframe tbody tr th {\n",
              "        vertical-align: top;\n",
              "    }\n",
              "\n",
              "    .dataframe thead th {\n",
              "        text-align: right;\n",
              "    }\n",
              "</style>\n",
              "<table border=\"1\" class=\"dataframe\">\n",
              "  <thead>\n",
              "    <tr style=\"text-align: right;\">\n",
              "      <th></th>\n",
              "      <th>0</th>\n",
              "      <th>1</th>\n",
              "      <th>2</th>\n",
              "      <th>3</th>\n",
              "      <th>4</th>\n",
              "      <th>5</th>\n",
              "      <th>6</th>\n",
              "      <th>7</th>\n",
              "      <th>8</th>\n",
              "      <th>9</th>\n",
              "      <th>10</th>\n",
              "      <th>11</th>\n",
              "      <th>12</th>\n",
              "      <th>13</th>\n",
              "      <th>14</th>\n",
              "      <th>15</th>\n",
              "      <th>16</th>\n",
              "      <th>17</th>\n",
              "      <th>18</th>\n",
              "      <th>19</th>\n",
              "      <th>20</th>\n",
              "      <th>21</th>\n",
              "      <th>22</th>\n",
              "      <th>23</th>\n",
              "      <th>24</th>\n",
              "      <th>25</th>\n",
              "      <th>26</th>\n",
              "      <th>27</th>\n",
              "      <th>28</th>\n",
              "      <th>29</th>\n",
              "      <th>30</th>\n",
              "      <th>31</th>\n",
              "      <th>32</th>\n",
              "      <th>33</th>\n",
              "      <th>34</th>\n",
              "    </tr>\n",
              "  </thead>\n",
              "  <tbody>\n",
              "    <tr>\n",
              "      <th>117</th>\n",
              "      <td>2</td>\n",
              "      <td>2</td>\n",
              "      <td>3</td>\n",
              "      <td>2</td>\n",
              "      <td>2</td>\n",
              "      <td>2</td>\n",
              "      <td>0</td>\n",
              "      <td>3</td>\n",
              "      <td>0</td>\n",
              "      <td>0</td>\n",
              "      <td>0</td>\n",
              "      <td>2</td>\n",
              "      <td>0</td>\n",
              "      <td>0</td>\n",
              "      <td>2</td>\n",
              "      <td>2</td>\n",
              "      <td>2</td>\n",
              "      <td>0</td>\n",
              "      <td>1</td>\n",
              "      <td>0</td>\n",
              "      <td>0</td>\n",
              "      <td>0</td>\n",
              "      <td>0</td>\n",
              "      <td>0</td>\n",
              "      <td>2</td>\n",
              "      <td>0</td>\n",
              "      <td>3</td>\n",
              "      <td>3</td>\n",
              "      <td>2</td>\n",
              "      <td>0</td>\n",
              "      <td>0</td>\n",
              "      <td>2</td>\n",
              "      <td>2</td>\n",
              "      <td>52</td>\n",
              "      <td>3</td>\n",
              "    </tr>\n",
              "    <tr>\n",
              "      <th>110</th>\n",
              "      <td>2</td>\n",
              "      <td>2</td>\n",
              "      <td>2</td>\n",
              "      <td>3</td>\n",
              "      <td>2</td>\n",
              "      <td>0</td>\n",
              "      <td>0</td>\n",
              "      <td>0</td>\n",
              "      <td>3</td>\n",
              "      <td>3</td>\n",
              "      <td>0</td>\n",
              "      <td>0</td>\n",
              "      <td>0</td>\n",
              "      <td>1</td>\n",
              "      <td>0</td>\n",
              "      <td>0</td>\n",
              "      <td>2</td>\n",
              "      <td>0</td>\n",
              "      <td>2</td>\n",
              "      <td>2</td>\n",
              "      <td>2</td>\n",
              "      <td>2</td>\n",
              "      <td>2</td>\n",
              "      <td>2</td>\n",
              "      <td>0</td>\n",
              "      <td>1</td>\n",
              "      <td>0</td>\n",
              "      <td>0</td>\n",
              "      <td>0</td>\n",
              "      <td>0</td>\n",
              "      <td>0</td>\n",
              "      <td>2</td>\n",
              "      <td>0</td>\n",
              "      <td>41</td>\n",
              "      <td>1</td>\n",
              "    </tr>\n",
              "    <tr>\n",
              "      <th>281</th>\n",
              "      <td>2</td>\n",
              "      <td>2</td>\n",
              "      <td>1</td>\n",
              "      <td>0</td>\n",
              "      <td>0</td>\n",
              "      <td>0</td>\n",
              "      <td>0</td>\n",
              "      <td>0</td>\n",
              "      <td>0</td>\n",
              "      <td>0</td>\n",
              "      <td>0</td>\n",
              "      <td>0</td>\n",
              "      <td>0</td>\n",
              "      <td>0</td>\n",
              "      <td>0</td>\n",
              "      <td>2</td>\n",
              "      <td>2</td>\n",
              "      <td>1</td>\n",
              "      <td>1</td>\n",
              "      <td>0</td>\n",
              "      <td>0</td>\n",
              "      <td>0</td>\n",
              "      <td>0</td>\n",
              "      <td>0</td>\n",
              "      <td>0</td>\n",
              "      <td>0</td>\n",
              "      <td>0</td>\n",
              "      <td>2</td>\n",
              "      <td>0</td>\n",
              "      <td>0</td>\n",
              "      <td>0</td>\n",
              "      <td>2</td>\n",
              "      <td>0</td>\n",
              "      <td>27</td>\n",
              "      <td>4</td>\n",
              "    </tr>\n",
              "    <tr>\n",
              "      <th>197</th>\n",
              "      <td>3</td>\n",
              "      <td>2</td>\n",
              "      <td>2</td>\n",
              "      <td>0</td>\n",
              "      <td>0</td>\n",
              "      <td>0</td>\n",
              "      <td>0</td>\n",
              "      <td>0</td>\n",
              "      <td>0</td>\n",
              "      <td>0</td>\n",
              "      <td>0</td>\n",
              "      <td>0</td>\n",
              "      <td>1</td>\n",
              "      <td>1</td>\n",
              "      <td>0</td>\n",
              "      <td>1</td>\n",
              "      <td>1</td>\n",
              "      <td>0</td>\n",
              "      <td>2</td>\n",
              "      <td>0</td>\n",
              "      <td>0</td>\n",
              "      <td>0</td>\n",
              "      <td>1</td>\n",
              "      <td>0</td>\n",
              "      <td>0</td>\n",
              "      <td>0</td>\n",
              "      <td>0</td>\n",
              "      <td>2</td>\n",
              "      <td>0</td>\n",
              "      <td>0</td>\n",
              "      <td>0</td>\n",
              "      <td>2</td>\n",
              "      <td>0</td>\n",
              "      <td>50</td>\n",
              "      <td>2</td>\n",
              "    </tr>\n",
              "    <tr>\n",
              "      <th>365</th>\n",
              "      <td>3</td>\n",
              "      <td>2</td>\n",
              "      <td>2</td>\n",
              "      <td>0</td>\n",
              "      <td>0</td>\n",
              "      <td>0</td>\n",
              "      <td>0</td>\n",
              "      <td>0</td>\n",
              "      <td>3</td>\n",
              "      <td>3</td>\n",
              "      <td>0</td>\n",
              "      <td>0</td>\n",
              "      <td>0</td>\n",
              "      <td>1</td>\n",
              "      <td>0</td>\n",
              "      <td>0</td>\n",
              "      <td>2</td>\n",
              "      <td>0</td>\n",
              "      <td>2</td>\n",
              "      <td>3</td>\n",
              "      <td>2</td>\n",
              "      <td>3</td>\n",
              "      <td>0</td>\n",
              "      <td>2</td>\n",
              "      <td>0</td>\n",
              "      <td>2</td>\n",
              "      <td>0</td>\n",
              "      <td>0</td>\n",
              "      <td>0</td>\n",
              "      <td>0</td>\n",
              "      <td>0</td>\n",
              "      <td>3</td>\n",
              "      <td>0</td>\n",
              "      <td>35</td>\n",
              "      <td>1</td>\n",
              "    </tr>\n",
              "  </tbody>\n",
              "</table>\n",
              "</div>"
            ],
            "text/plain": [
              "     0   1   2   3   4   5   6   7   8   ...  26  27  28  29  30  31  32  33  34\n",
              "117   2   2   3   2   2   2   0   3   0  ...   3   3   2   0   0   2   2  52   3\n",
              "110   2   2   2   3   2   0   0   0   3  ...   0   0   0   0   0   2   0  41   1\n",
              "281   2   2   1   0   0   0   0   0   0  ...   0   2   0   0   0   2   0  27   4\n",
              "197   3   2   2   0   0   0   0   0   0  ...   0   2   0   0   0   2   0  50   2\n",
              "365   3   2   2   0   0   0   0   0   3  ...   0   0   0   0   0   3   0  35   1\n",
              "\n",
              "[5 rows x 35 columns]"
            ]
          },
          "metadata": {
            "tags": []
          },
          "execution_count": 3
        }
      ]
    },
    {
      "cell_type": "markdown",
      "metadata": {
        "id": "fK9PIuwP_FQF"
      },
      "source": [
        "**1° passo** \n",
        "\n",
        "*   Definir qual a pergunta que será respondida com base nesse dataset?\n",
        "  *  Nesse caso qual a doença de pele mais provavel de um determinado paciente ? "
      ]
    },
    {
      "cell_type": "code",
      "metadata": {
        "id": "x3Rw0oI8-Vcj"
      },
      "source": [
        "# Bibiliotecas de IA\n",
        "\n",
        "from sklearn.model_selection import train_test_split\n",
        "from sklearn.neighbors import KNeighborsClassifier\n",
        "from sklearn.neural_network import MLPClassifier\n",
        "from sklearn.tree import DecisionTreeClassifier\n",
        "from sklearn.metrics import confusion_matrix"
      ],
      "execution_count": null,
      "outputs": []
    },
    {
      "cell_type": "code",
      "metadata": {
        "id": "0N_FRDvG-hQD"
      },
      "source": [
        "# Dados de treinamento \n",
        "\n",
        "\n",
        "X_data = dataset.loc[:,0:32].values   # Pegando todos os valores da primeira coluna ate a 32\n",
        "y_data = dataset.loc[:,34].values    # Pegando todos os valores da primeira linha ate a 34\n",
        "\n",
        "\n",
        "#Separamos o modelo em dados de treinamento e dados para teste \n",
        "#Utilizaremos 20% para teinamento \n",
        "X_train, X_test, y_train, y_test = train_test_split(X_data, y_data, test_size=.2) "
      ],
      "execution_count": null,
      "outputs": []
    },
    {
      "cell_type": "markdown",
      "metadata": {
        "id": "M0fLgBsi-5dC"
      },
      "source": [
        "## Teste KNN\n",
        "\n"
      ]
    },
    {
      "cell_type": "code",
      "metadata": {
        "colab": {
          "base_uri": "https://localhost:8080/"
        },
        "id": "6Lz3564C_-go",
        "outputId": "32fb8cea-04a4-40f6-dcd0-177450b78e3b"
      },
      "source": [
        "# n_neighbors -> Quantidade de vizinhos utilizados para a classificação\n",
        "model_knn = KNeighborsClassifier(n_neighbors=5)\n",
        "model_knn.fit(X_train, y_train)"
      ],
      "execution_count": null,
      "outputs": [
        {
          "output_type": "execute_result",
          "data": {
            "text/plain": [
              "KNeighborsClassifier(algorithm='auto', leaf_size=30, metric='minkowski',\n",
              "                     metric_params=None, n_jobs=None, n_neighbors=5, p=2,\n",
              "                     weights='uniform')"
            ]
          },
          "metadata": {
            "tags": []
          },
          "execution_count": 12
        }
      ]
    },
    {
      "cell_type": "code",
      "metadata": {
        "colab": {
          "base_uri": "https://localhost:8080/"
        },
        "id": "segV9pprA1-r",
        "outputId": "053c61ff-8cd5-42b9-8a61-7322307a4d2a"
      },
      "source": [
        "#Avaliando a acuracia do modelo \n",
        "model_knn.score(X_test, y_test)"
      ],
      "execution_count": null,
      "outputs": [
        {
          "output_type": "execute_result",
          "data": {
            "text/plain": [
              "0.972972972972973"
            ]
          },
          "metadata": {
            "tags": []
          },
          "execution_count": 13
        }
      ]
    },
    {
      "cell_type": "code",
      "metadata": {
        "colab": {
          "base_uri": "https://localhost:8080/"
        },
        "id": "jvJFjHBdBABS",
        "outputId": "ab1825ce-0694-4fe4-92d5-30ab3c49b0cf"
      },
      "source": [
        "#Criando a matriz de confusão \n",
        "\n",
        "pred = model_knn.predict(X_test)\n",
        "\n",
        "confusion_matrix(y_test, pred)"
      ],
      "execution_count": null,
      "outputs": [
        {
          "output_type": "execute_result",
          "data": {
            "text/plain": [
              "array([[25,  1,  0,  0,  0,  0],\n",
              "       [ 0, 11,  0,  1,  0,  0],\n",
              "       [ 0,  0, 12,  0,  0,  0],\n",
              "       [ 0,  0,  0, 12,  0,  0],\n",
              "       [ 0,  0,  0,  0,  8,  0],\n",
              "       [ 0,  0,  0,  0,  0,  4]])"
            ]
          },
          "metadata": {
            "tags": []
          },
          "execution_count": 14
        }
      ]
    },
    {
      "cell_type": "markdown",
      "metadata": {
        "id": "tQ4y019GBMem"
      },
      "source": [
        "## Teste Rede Neural"
      ]
    },
    {
      "cell_type": "code",
      "metadata": {
        "colab": {
          "base_uri": "https://localhost:8080/"
        },
        "id": "UDAaGw79B-ue",
        "outputId": "40fedd8f-f031-4b86-e51e-46582b011c37"
      },
      "source": [
        "# Definindo que a Rede neural terá 20 camadas ocultas (hidden_layer_sizes)\n",
        "# E utilizará a sigmoide logistica para avaliação dos dados (activation)\n",
        "# Maximo de vezes que o data set é utilizado para ajuste de peso (max_iter)\n",
        "model_nn = MLPClassifier(hidden_layer_sizes=(20,), activation='logistic', max_iter=900)\n",
        "model_nn.fit(X_train, y_train)"
      ],
      "execution_count": null,
      "outputs": [
        {
          "output_type": "execute_result",
          "data": {
            "text/plain": [
              "MLPClassifier(activation='logistic', alpha=0.0001, batch_size='auto',\n",
              "              beta_1=0.9, beta_2=0.999, early_stopping=False, epsilon=1e-08,\n",
              "              hidden_layer_sizes=(20,), learning_rate='constant',\n",
              "              learning_rate_init=0.001, max_fun=15000, max_iter=900,\n",
              "              momentum=0.9, n_iter_no_change=10, nesterovs_momentum=True,\n",
              "              power_t=0.5, random_state=None, shuffle=True, solver='adam',\n",
              "              tol=0.0001, validation_fraction=0.1, verbose=False,\n",
              "              warm_start=False)"
            ]
          },
          "metadata": {
            "tags": []
          },
          "execution_count": 18
        }
      ]
    },
    {
      "cell_type": "code",
      "metadata": {
        "colab": {
          "base_uri": "https://localhost:8080/"
        },
        "id": "MbMxL9ddCbv5",
        "outputId": "c5a415fc-3c9e-475c-b4ac-18fa4df05a19"
      },
      "source": [
        "#Validando a acuracia do modelo\n",
        "\n",
        "model_nn.score(X_test, y_test)"
      ],
      "execution_count": null,
      "outputs": [
        {
          "output_type": "execute_result",
          "data": {
            "text/plain": [
              "0.9864864864864865"
            ]
          },
          "metadata": {
            "tags": []
          },
          "execution_count": 16
        }
      ]
    },
    {
      "cell_type": "code",
      "metadata": {
        "colab": {
          "base_uri": "https://localhost:8080/"
        },
        "id": "VlWgoMhdCjNt",
        "outputId": "50dd23e3-c0cd-4311-a089-d2db2a3dfe15"
      },
      "source": [
        "#Matrix de confusão \n",
        "pred = model_nn.predict(X_test)\n",
        "\n",
        "confusion_matrix(y_test, pred)"
      ],
      "execution_count": null,
      "outputs": [
        {
          "output_type": "execute_result",
          "data": {
            "text/plain": [
              "array([[26,  0,  0,  0,  0,  0],\n",
              "       [ 0, 12,  0,  0,  0,  0],\n",
              "       [ 0,  0, 12,  0,  0,  0],\n",
              "       [ 0,  1,  0, 11,  0,  0],\n",
              "       [ 0,  0,  0,  0,  8,  0],\n",
              "       [ 0,  0,  0,  0,  0,  4]])"
            ]
          },
          "metadata": {
            "tags": []
          },
          "execution_count": 17
        }
      ]
    },
    {
      "cell_type": "markdown",
      "metadata": {
        "id": "SIMNTXcnDH0r"
      },
      "source": [
        "## Teste Árvore de Decisão"
      ]
    },
    {
      "cell_type": "code",
      "metadata": {
        "colab": {
          "base_uri": "https://localhost:8080/"
        },
        "id": "0RWKwnJtDMY1",
        "outputId": "becc82e8-3933-49ad-c92b-51f0be128d0b"
      },
      "source": [
        "# max_depth -> Maxima profundidade de ramificação da arvore \n",
        "model_tree = DecisionTreeClassifier(max_depth=40)\n",
        "model_tree.fit(X_train, y_train)"
      ],
      "execution_count": null,
      "outputs": [
        {
          "output_type": "execute_result",
          "data": {
            "text/plain": [
              "DecisionTreeClassifier(ccp_alpha=0.0, class_weight=None, criterion='gini',\n",
              "                       max_depth=40, max_features=None, max_leaf_nodes=None,\n",
              "                       min_impurity_decrease=0.0, min_impurity_split=None,\n",
              "                       min_samples_leaf=1, min_samples_split=2,\n",
              "                       min_weight_fraction_leaf=0.0, presort='deprecated',\n",
              "                       random_state=None, splitter='best')"
            ]
          },
          "metadata": {
            "tags": []
          },
          "execution_count": 19
        }
      ]
    },
    {
      "cell_type": "code",
      "metadata": {
        "colab": {
          "base_uri": "https://localhost:8080/"
        },
        "id": "KVvkHd-_DVz1",
        "outputId": "5872b200-4409-44f9-fb00-fa8fb3c13e73"
      },
      "source": [
        "# Acuracia\n",
        "\n",
        "model_tree.score(X_test, y_test)"
      ],
      "execution_count": null,
      "outputs": [
        {
          "output_type": "execute_result",
          "data": {
            "text/plain": [
              "0.9324324324324325"
            ]
          },
          "metadata": {
            "tags": []
          },
          "execution_count": 20
        }
      ]
    },
    {
      "cell_type": "code",
      "metadata": {
        "colab": {
          "base_uri": "https://localhost:8080/"
        },
        "id": "SCv2PLkrDabe",
        "outputId": "d43a697c-a82b-4ba1-c376-17e32c3da6b3"
      },
      "source": [
        "# Matrix de confusão \n",
        "\n",
        "pred = model_tree.predict(X_test)\n",
        "\n",
        "confusion_matrix(y_test, pred)"
      ],
      "execution_count": null,
      "outputs": [
        {
          "output_type": "execute_result",
          "data": {
            "text/plain": [
              "array([[26,  0,  0,  0,  0,  0],\n",
              "       [ 1, 10,  0,  0,  0,  1],\n",
              "       [ 0,  0, 12,  0,  0,  0],\n",
              "       [ 0,  2,  0, 10,  0,  0],\n",
              "       [ 1,  0,  0,  0,  7,  0],\n",
              "       [ 0,  0,  0,  0,  0,  4]])"
            ]
          },
          "metadata": {
            "tags": []
          },
          "execution_count": 21
        }
      ]
    },
    {
      "cell_type": "code",
      "metadata": {
        "id": "R4YUTMAUDoju",
        "colab": {
          "base_uri": "https://localhost:8080/"
        },
        "outputId": "27df6640-89a1-4ed0-fc74-3a95e24d6168"
      },
      "source": [
        "idx_errors = (y_test != pred) # índices dos erros de classificação\n",
        "y_test[idx_errors], pred[idx_errors] # elementos errados correspondentes"
      ],
      "execution_count": null,
      "outputs": [
        {
          "output_type": "execute_result",
          "data": {
            "text/plain": [
              "(array([2, 4, 4, 5, 2]), array([1, 2, 2, 1, 6]))"
            ]
          },
          "metadata": {
            "tags": []
          },
          "execution_count": 22
        }
      ]
    }
  ]
}